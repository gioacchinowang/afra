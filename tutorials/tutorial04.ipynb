{
 "cells": [
  {
   "cell_type": "markdown",
   "metadata": {},
   "source": [
    "# ABS tutorial 04\n",
    "\n",
    "## partial-sky ABS pipeline (with noise)\n",
    "\n",
    "To validate the ABS method we have simulated a few foregrounds maps including dust and synchrotron at 30, 95, 150 and 353 GHz, using PySM package. CAMB is utilized to predict the CMB power spectra with respect to the Planck best fit 2018 results, from which random realizations of CMB anisotropies are obtained. For the tensor-to-scalar ratio, we set it as 0.05 for the generation of CMB maps. White noise maps are generated according to the Planck level.\n",
    "\n",
    "Measurement uncertainties are prepared as white noise."
   ]
  },
  {
   "cell_type": "code",
   "execution_count": null,
   "metadata": {},
   "outputs": [],
   "source": [
    "import numpy as np\n",
    "import healpy as hp\n",
    "import matplotlib\n",
    "import abspy as ap\n",
    "%matplotlib inline\n",
    "import warnings\n",
    "warnings.filterwarnings('ignore')"
   ]
  },
  {
   "cell_type": "markdown",
   "metadata": {},
   "source": [
    "### read in maps"
   ]
  },
  {
   "cell_type": "code",
   "execution_count": null,
   "metadata": {},
   "outputs": [],
   "source": [
    "NSIDE = 128\n",
    "\n",
    "map30 = hp.read_map('./data/TQU_30GHz_r7.fits',field=[0,1,2],dtype=np.float64,verbose=0)\n",
    "map95 = hp.read_map('./data/TQU_95GHz_r7.fits',field=[0,1,2],dtype=np.float64,verbose=0)\n",
    "map150 = hp.read_map('./data/TQU_150GHz_r7.fits',field=[0,1,2],dtype=np.float64,verbose=0)\n",
    "map353 = hp.read_map('./data/TQU_353GHz_r7.fits',field=[0,1,2],dtype=np.float64,verbose=0)\n",
    "mapcmb = hp.read_map('./data/TQU_CMB_r7.fits',field=[0,1,2],dtype=np.float64,verbose=0)\n",
    "\n",
    "NSCAL = 1.\n",
    "vmap30 = hp.read_map('./data/TQU_var_30GHz_r7.fits',field=[0,1,2],dtype=np.float64,verbose=0)*NSCAL\n",
    "vmap95 = hp.read_map('./data/TQU_var_95GHz_r7.fits',field=[0,1,2],dtype=np.float64,verbose=0)*NSCAL\n",
    "vmap150 = hp.read_map('./data/TQU_var_150GHz_r7.fits',field=[0,1,2],dtype=np.float64,verbose=0)*NSCAL\n",
    "vmap353 = hp.read_map('./data/TQU_var_353GHz_r7.fits',field=[0,1,2],dtype=np.float64,verbose=0)*NSCAL\n",
    "\n",
    "print (map95.shape, map95.dtype)"
   ]
  },
  {
   "cell_type": "code",
   "execution_count": null,
   "metadata": {},
   "outputs": [],
   "source": [
    "mask = hp.read_map('./data/ali_mask_r7.fits',dtype=bool,verbose=False)\n",
    "\n",
    "fig = matplotlib.pyplot.figure(figsize=(5,5))\n",
    "gs = matplotlib.gridspec.GridSpec(5, 5)\n",
    "fig.add_subplot(gs[0:5, 0:5])\n",
    "hp.mollview(mask,title='AliCPT mask map',hold=True)"
   ]
  },
  {
   "cell_type": "code",
   "execution_count": null,
   "metadata": {},
   "outputs": [],
   "source": [
    "RESAMP = 5  # size of resampling\n",
    "BINNING = 20\n",
    "NPIX = 12*NSIDE**2\n",
    "est = ap.pstimator(nside=NSIDE, mask=mask.reshape(1,-1), aposcale=5.0, psbin=BINNING)\n",
    "auto_cmb = est.auto_t(mapcmb[0].reshape(1,-1))\n",
    "Nell = len(auto_cmb[0])\n",
    "\n",
    "n95 = np.zeros((3,NPIX,RESAMP))\n",
    "\n",
    "for i in range(NPIX):\n",
    "    for j in range(3):\n",
    "        if mask[i]:\n",
    "            n95[j,i,:] = np.random.normal(0,np.sqrt(vmap95[j,i]),RESAMP)\n",
    "            \n",
    "auto_n95 = np.zeros((3,Nell))\n",
    "sigma_n95 = np.zeros((3,Nell))\n",
    "for i in range(RESAMP):\n",
    "    _tmp = est.auto_t(n95[0,:,i].reshape(1,-1))\n",
    "    auto_n95[0] += _tmp[1]\n",
    "    sigma_n95[0] += np.array(_tmp[1])*np.array(_tmp[1])\n",
    "    _tmp = est.auto_eb(n95[1:,:,i].reshape(2,-1))\n",
    "    auto_n95[1] += _tmp[1]\n",
    "    auto_n95[2] += _tmp[2]\n",
    "    sigma_n95[1] += np.array(_tmp[1])*np.array(_tmp[1])\n",
    "    sigma_n95[2] += np.array(_tmp[2])*np.array(_tmp[2])\n",
    "auto_n95 /= RESAMP\n",
    "sigma_n95 = np.sqrt(sigma_n95/RESAMP - auto_n95**2)\n",
    "\n",
    "\n",
    "fig,ax = matplotlib.pyplot.subplots(figsize=(5,5))\n",
    "\n",
    "ax.plot(auto_cmb[0],auto_n95[0],\n",
    "        color='red',linestyle='--',label='95GHz TT noise')\n",
    "ax.scatter(auto_cmb[0],sigma_n95[0],\n",
    "          color='red',marker='x',label='95GHz TT $\\sigma$')\n",
    "\n",
    "ax.plot(auto_cmb[0],auto_n95[1],\n",
    "        color='green',linestyle='--',label='95GHz EE noise')\n",
    "ax.scatter(auto_cmb[0],sigma_n95[1],\n",
    "          color='green',marker='x',label='95GHz EE $\\sigma$')\n",
    "\n",
    "ax.plot(auto_cmb[0],auto_n95[2],\n",
    "        color='orange',linestyle='--',label='95GHz BB noise')\n",
    "ax.scatter(auto_cmb[0],sigma_n95[2],\n",
    "          color='orange',marker='x',label='95GHz BB $\\sigma$')\n",
    "\n",
    "cmb_cl = hp.anafast(mapcmb)\n",
    "ell = np.arange(len(cmb_cl[0]))\n",
    "ax.plot(cmb_cl[0]*0.5*ell*(ell+1)/np.pi,\n",
    "        color='black',linestyle='-',label=r'CMB TT')\n",
    "ax.plot(cmb_cl[1]*0.5*ell*(ell+1)/np.pi,\n",
    "        color='black',linestyle='--',label=r'CMB EE')\n",
    "ax.plot(cmb_cl[2]*0.5*ell*(ell+1)/np.pi,\n",
    "        color='black',linestyle=':',label=r'CMB BB')\n",
    "\n",
    "ax.set_yscale('log')\n",
    "ax.set_xscale('log')\n",
    "ax.legend(loc=3)\n",
    "ax.set_xlabel(r'$\\ell$',fontsize=15)\n",
    "ax.set_ylabel(r'$D_\\ell$ ($\\mu K^2$)',fontsize=15)\n",
    "ax.tick_params(axis='both', labelsize=15)\n",
    "#ax.set_ylim((1.e-7,1.e7))"
   ]
  },
  {
   "cell_type": "markdown",
   "metadata": {},
   "source": [
    "- TT"
   ]
  },
  {
   "cell_type": "code",
   "execution_count": null,
   "metadata": {},
   "outputs": [],
   "source": [
    "%%time\n",
    "\n",
    "fullmap = np.zeros((4,1,12*NSIDE**2))\n",
    "fullmap[0] = map30[0]\n",
    "fullmap[1] = map95[0]\n",
    "fullmap[2] = map150[0]\n",
    "fullmap[3] = map353[0]\n",
    "\n",
    "fullvar = np.zeros((4,1,12*NSIDE**2))\n",
    "fullvar[0] = vmap30[0]\n",
    "fullvar[1] = vmap95[0]\n",
    "fullvar[2] = vmap150[0]\n",
    "fullvar[3] = vmap353[0]\n",
    "\n",
    "pipeline1 = ap.abspipe(fullmap,nfreq=4,nmap=1,nside=NSIDE,mask=mask.reshape(1,-1),variances=fullvar,\n",
    "                       fwhms=[1.e-3,1.e-3,1.e-3,1.e-3])\n",
    "pipeline1.nsamp = 5\n",
    "rslt_t = pipeline1(psbin=40,shift=10.,threshold=1.,verbose=True)"
   ]
  },
  {
   "cell_type": "markdown",
   "metadata": {},
   "source": [
    "- EE and BB"
   ]
  },
  {
   "cell_type": "code",
   "execution_count": null,
   "metadata": {},
   "outputs": [],
   "source": [
    "%%time\n",
    "\n",
    "fullmap = np.zeros((4,2,12*NSIDE**2))\n",
    "fullmap[0] = map30[1:]\n",
    "fullmap[1] = map95[1:]\n",
    "fullmap[2] = map150[1:]\n",
    "fullmap[3] = map353[1:]\n",
    "\n",
    "fullvar = np.zeros((4,2,12*NSIDE**2))\n",
    "fullvar[0] = vmap30[1:]\n",
    "fullvar[1] = vmap95[1:]\n",
    "fullvar[2] = vmap150[1:]\n",
    "fullvar[3] = vmap353[1:]\n",
    "\n",
    "pipeline2 = ap.abspipe(fullmap,nfreq=4,nmap=2,nside=NSIDE,mask=mask.reshape(1,-1),variances=fullvar,\n",
    "                      fwhms=[1.e-3,1.e-3,1.e-3,1.e-3])\n",
    "pipeline2.nsamp = 5\n",
    "rslt_eb = pipeline2(psbin=40,shift=10.,threshold=1.,verbose=True)"
   ]
  },
  {
   "cell_type": "markdown",
   "metadata": {},
   "source": [
    "visualize"
   ]
  },
  {
   "cell_type": "code",
   "execution_count": null,
   "metadata": {
    "scrolled": false
   },
   "outputs": [],
   "source": [
    "fig,ax = matplotlib.pyplot.subplots(figsize=(5,5))\n",
    "\n",
    "cmb_cl = hp.anafast(mapcmb)\n",
    "ell = np.arange(len(cmb_cl[0]))\n",
    "ax.plot((0.5/np.pi)*ell*(ell+1)*cmb_cl[0],\n",
    "        color='black',linestyle='-',label=r'CMB TT')\n",
    "ax.plot((0.5/np.pi)*ell*(ell+1)*cmb_cl[1],\n",
    "        color='black',linestyle='-',label=r'CMB EE')\n",
    "ax.plot((0.5/np.pi)*ell*(ell+1)*cmb_cl[2],\n",
    "        color='black',linestyle='-',label=r'CMB BB')\n",
    "    \n",
    "ax.errorbar(rslt_t[0],rslt_t[1],yerr=rslt_t[2],\n",
    "            color='red',fmt='o',label=r'ABS TT')\n",
    "ax.errorbar(rslt_eb[0],rslt_eb[1],yerr=rslt_eb[2],\n",
    "            color='green',fmt='s',label=r'ABS EE')\n",
    "ax.errorbar(rslt_eb[0],rslt_eb[3],yerr=rslt_eb[4],\n",
    "            color='orange',fmt='X',label=r'ABS BB')\n",
    "\n",
    "ax.fill_between((2*NSIDE,3*NSIDE),(1e-7,1e-7),(1e7,1e7),\n",
    "                color='gray',linestyle='--',alpha=0.5)\n",
    "\n",
    "ax.set_yscale('log')\n",
    "ax.set_xscale('log')\n",
    "ax.legend(loc=2)\n",
    "ax.set_xlabel(r'$\\ell$',fontsize=15)\n",
    "ax.set_ylabel(r'$D_\\ell$ ($\\mu K^2$)',fontsize=15)\n",
    "ax.tick_params(axis='both', labelsize=15)\n",
    "ax.set_ylim((1.e-7,1.e7))\n",
    "ax.set_xlim((1,3*NSIDE))\n",
    "\n",
    "\n",
    "fig,ax = matplotlib.pyplot.subplots(figsize=(5,5))\n",
    "freq_list = [30,95,150,353]\n",
    "for i in range(len(rslt_t[0])):\n",
    "    vec = rslt_t[-1][i][1]\n",
    "    ax.plot(freq_list,vec[:,0],linestyle=':',color='r',marker='o')\n",
    "    ax.plot(freq_list,vec[:,1],linestyle=':',color='g',marker='s')\n",
    "    ax.plot(freq_list,vec[:,2],linestyle=':',color='b',marker='X')\n",
    "    ax.plot(freq_list,vec[:,3],linestyle=':',color='y',marker='^')\n",
    "ax.set_xscale('log')\n",
    "ax.set_xlabel('frequency', fontsize=15)\n",
    "ax.set_ylabel('eigen vectors', fontsize=15)\n",
    "ax.set_title('CMB TT', fontsize=15)\n",
    "ax.tick_params(axis='both', labelsize=15)\n",
    "\n",
    "\n",
    "fig,ax = matplotlib.pyplot.subplots(figsize=(5,5))\n",
    "freq_list = [30,95,150,353]\n",
    "for i in range(len(rslt_eb[0])):\n",
    "    vec = rslt_eb[-1][i][1]\n",
    "    ax.plot(freq_list,vec[:,0],linestyle=':',color='r',marker='o')\n",
    "    ax.plot(freq_list,vec[:,1],linestyle=':',color='g',marker='s')\n",
    "    ax.plot(freq_list,vec[:,2],linestyle=':',color='b',marker='X')\n",
    "    ax.plot(freq_list,vec[:,3],linestyle=':',color='y',marker='^')\n",
    "ax.set_xscale('log')\n",
    "ax.set_xlabel('frequency', fontsize=15)\n",
    "ax.set_ylabel('eigen vectors', fontsize=15)\n",
    "ax.set_title('CMB BB', fontsize=15)\n",
    "ax.tick_params(axis='both', labelsize=15)"
   ]
  },
  {
   "cell_type": "markdown",
   "metadata": {},
   "source": [
    "only BB"
   ]
  },
  {
   "cell_type": "code",
   "execution_count": null,
   "metadata": {},
   "outputs": [],
   "source": [
    "%%time\n",
    "\n",
    "fullmap = np.zeros((4,3,12*NSIDE**2))\n",
    "fullmap[0] = map30\n",
    "fullmap[1] = map95\n",
    "fullmap[2] = map150\n",
    "fullmap[3] = map353\n",
    "\n",
    "fullvar = np.zeros((4,3,12*NSIDE**2))\n",
    "fullvar[0] = vmap30\n",
    "fullvar[1] = vmap95\n",
    "fullvar[2] = vmap150\n",
    "fullvar[3] = vmap353\n",
    "\n",
    "pipeline3 = ap.abspipe(fullmap,nfreq=4,nmap=3,nside=NSIDE,mask=mask.reshape(1,-1),variances=fullvar,\n",
    "                      fwhms=[1.e-3,1.e-3,1.e-3,1.e-3])\n",
    "pipeline3.nsamp = 5\n",
    "rslt_b = pipeline3.run_bmode(psbin=40,shift=10.,threshold=1.,verbose=True)"
   ]
  },
  {
   "cell_type": "markdown",
   "metadata": {},
   "source": [
    "visualize"
   ]
  },
  {
   "cell_type": "code",
   "execution_count": null,
   "metadata": {},
   "outputs": [],
   "source": [
    "fig,ax = matplotlib.pyplot.subplots(figsize=(5,5))\n",
    "\n",
    "cmb_cl = hp.anafast(mapcmb)\n",
    "ell = np.arange(len(cmb_cl[0]))\n",
    "ax.plot((0.5/np.pi)*ell*(ell+1)*cmb_cl[0],\n",
    "        color='black',linestyle='-',label=r'CMB TT')\n",
    "ax.plot((0.5/np.pi)*ell*(ell+1)*cmb_cl[1],\n",
    "        color='black',linestyle='-',label=r'CMB EE')\n",
    "ax.plot((0.5/np.pi)*ell*(ell+1)*cmb_cl[2],\n",
    "        color='black',linestyle='-',label=r'CMB BB')\n",
    "\n",
    "ax.errorbar(rslt_b[0],rslt_b[1],yerr=rslt_b[2],\n",
    "            color='orange',fmt='X',label=r'ABS BB (B mode)')\n",
    "\n",
    "ax.fill_between((2*NSIDE,3*NSIDE),(1e-7,1e-7),(1e7,1e7),\n",
    "                color='gray',linestyle='--',alpha=0.5)\n",
    "\n",
    "ax.set_yscale('log')\n",
    "ax.set_xscale('log')\n",
    "ax.legend(loc=2)\n",
    "ax.set_xlabel(r'$\\ell$',fontsize=15)\n",
    "ax.set_ylabel(r'$D_\\ell$ ($\\mu K^2$)',fontsize=15)\n",
    "ax.tick_params(axis='both', labelsize=15)\n",
    "ax.set_ylim((1.e-7,1.e7))\n",
    "ax.set_xlim((1,3*NSIDE))\n",
    "\n",
    "\n",
    "fig,ax = matplotlib.pyplot.subplots(figsize=(5,5))\n",
    "freq_list = [30,95,150,353]\n",
    "for i in range(len(rslt_b[0])):\n",
    "    vec = rslt_b[-1][i][1]\n",
    "    ax.plot(freq_list,vec[:,0],linestyle=':',color='r',marker='o')\n",
    "    ax.plot(freq_list,vec[:,1],linestyle=':',color='g',marker='s')\n",
    "    ax.plot(freq_list,vec[:,2],linestyle=':',color='b',marker='X')\n",
    "    ax.plot(freq_list,vec[:,3],linestyle=':',color='y',marker='^')\n",
    "ax.set_xscale('log')\n",
    "ax.set_xlabel('frequency', fontsize=15)\n",
    "ax.set_ylabel('eigen vectors', fontsize=15)\n",
    "ax.set_title('CMB BB', fontsize=15)\n",
    "ax.tick_params(axis='both', labelsize=15)"
   ]
  },
  {
   "cell_type": "markdown",
   "metadata": {},
   "source": [
    "end"
   ]
  }
 ],
 "metadata": {
  "kernelspec": {
   "display_name": "Python 3",
   "language": "python",
   "name": "python3"
  },
  "language_info": {
   "codemirror_mode": {
    "name": "ipython",
    "version": 3
   },
   "file_extension": ".py",
   "mimetype": "text/x-python",
   "name": "python",
   "nbconvert_exporter": "python",
   "pygments_lexer": "ipython3",
   "version": "3.6.9"
  }
 },
 "nbformat": 4,
 "nbformat_minor": 4
}
