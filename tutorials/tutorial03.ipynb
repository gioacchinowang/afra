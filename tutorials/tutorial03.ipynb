{
 "cells": [
  {
   "cell_type": "markdown",
   "metadata": {},
   "source": [
    "# tutorial 03\n",
    "\n",
    "## partial-sky ABS pipeline (without noise)"
   ]
  },
  {
   "cell_type": "code",
   "execution_count": 1,
   "metadata": {},
   "outputs": [],
   "source": [
    "import numpy as np\n",
    "import healpy as hp\n",
    "import matplotlib\n",
    "import abspy as ap\n",
    "%matplotlib inline\n",
    "import warnings\n",
    "warnings.filterwarnings('ignore')"
   ]
  },
  {
   "cell_type": "markdown",
   "metadata": {},
   "source": [
    "### read in maps"
   ]
  },
  {
   "cell_type": "code",
   "execution_count": 2,
   "metadata": {},
   "outputs": [
    {
     "name": "stdout",
     "output_type": "stream",
     "text": [
      "(3, 196608) float64\n"
     ]
    }
   ],
   "source": [
    "NSIDE = 128\n",
    "map30 = hp.read_map('./data/TQU_30GHz_r7.fits',field=[0,1,2],dtype=np.float64,verbose=0)\n",
    "map95 = hp.read_map('./data/TQU_95GHz_r7.fits',field=[0,1,2],dtype=np.float64,verbose=0)\n",
    "map150 = hp.read_map('./data/TQU_150GHz_r7.fits',field=[0,1,2],dtype=np.float64,verbose=0)\n",
    "map353 = hp.read_map('./data/TQU_353GHz_r7.fits',field=[0,1,2],dtype=np.float64,verbose=0)\n",
    "mapcmb = hp.read_map('./data/TQU_CMB_r7.fits',field=[0,1,2],dtype=np.float64,verbose=0)\n",
    "print (map95.shape, map95.dtype)"
   ]
  },
  {
   "cell_type": "code",
   "execution_count": 3,
   "metadata": {},
   "outputs": [
    {
     "data": {
      "image/png": "[encoded data removed]",
      "text/plain": [
       "<Figure size 360x360 with 2 Axes>"
      ]
     },
     "metadata": {
      "needs_background": "light"
     },
     "output_type": "display_data"
    }
   ],
   "source": [
    "mask = hp.read_map('./data/ali_mask_r7.fits',dtype=bool,verbose=False)\n",
    "\n",
    "fig = matplotlib.pyplot.figure(figsize=(5,5))\n",
    "gs = matplotlib.gridspec.GridSpec(5, 5)\n",
    "fig.add_subplot(gs[0:5, 0:5])\n",
    "hp.mollview(mask,title='AliCPT mask map',hold=True)"
   ]
  },
  {
   "cell_type": "markdown",
   "metadata": {},
   "source": [
    "- PS estimation requires a built-in PS estimator (by default NaMaster)"
   ]
  },
  {
   "cell_type": "code",
   "execution_count": 4,
   "metadata": {},
   "outputs": [],
   "source": [
    "est = ap.pstimator()"
   ]
  },
  {
   "cell_type": "code",
   "execution_count": 5,
   "metadata": {},
   "outputs": [],
   "source": [
    "auto_cmb = est.auto_teb(mapcmb, mask, aposcale=1.0, binning=10)\n",
    "\n",
    "auto_30 = est.auto_teb(map30, mask, aposcale=1.0, binning=10)\n",
    "auto_95 = est.auto_teb(map95, mask, aposcale=1.0, binning=10)\n",
    "auto_150 = est.auto_teb(map150, mask, aposcale=1.0, binning=10)\n",
    "auto_353 = est.auto_teb(map353, mask, aposcale=1.0, binning=10)\n",
    "\n",
    "cross_30_95 = est.cross_teb(np.vstack([map30,map95]), mask, aposcale=1.0, binning=10)\n",
    "cross_30_150 = est.cross_teb(np.vstack([map30,map150]), mask, aposcale=1.0, binning=10)\n",
    "cross_30_353 = est.cross_teb(np.vstack([map30,map353]), mask, aposcale=1.0, binning=10)\n",
    "\n",
    "cross_95_150 = est.cross_teb(np.vstack([map95,map150]), mask, aposcale=1.0, binning=10)\n",
    "cross_95_353 = est.cross_teb(np.vstack([map95,map353]), mask, aposcale=1.0, binning=10)\n",
    "\n",
    "cross_150_353 = est.cross_teb(np.vstack([map150,map353]), mask, aposcale=1.0, binning=10)"
   ]
  },
  {
   "cell_type": "code",
   "execution_count": 6,
   "metadata": {},
   "outputs": [],
   "source": [
    "Nfreq = 4  # 30,95,150,353\n",
    "Llist = list(auto_cmb[0])\n",
    "Nell = len(Llist)\n",
    "\n",
    "tt_total = np.zeros((Nell,Nfreq,Nfreq))\n",
    "ee_total = np.zeros((Nell,Nfreq,Nfreq))\n",
    "bb_total = np.zeros((Nell,Nfreq,Nfreq))\n",
    "\n",
    "for i in range(Nell):\n",
    "    # diagnoal\n",
    "    tt_total[i,0,0] = auto_30[1][i]\n",
    "    tt_total[i,1,1] = auto_95[1][i]\n",
    "    tt_total[i,2,2] = auto_150[1][i]\n",
    "    tt_total[i,3,3] = auto_353[1][i]\n",
    "    \n",
    "    ee_total[i,0,0] = auto_30[2][i]\n",
    "    ee_total[i,1,1] = auto_95[2][i]\n",
    "    ee_total[i,2,2] = auto_150[2][i]\n",
    "    ee_total[i,3,3] = auto_353[2][i]\n",
    "    \n",
    "    bb_total[i,0,0] = auto_30[3][i]\n",
    "    bb_total[i,1,1] = auto_95[3][i]\n",
    "    bb_total[i,2,2] = auto_150[3][i]\n",
    "    bb_total[i,3,3] = auto_353[3][i]\n",
    "    # cross\n",
    "    tt_total[i,0,1] = cross_30_95[1][i]\n",
    "    tt_total[i,0,2] = cross_30_150[1][i]\n",
    "    tt_total[i,0,3] = cross_30_353[1][i]\n",
    "    tt_total[i,1,2] = cross_95_150[1][i]\n",
    "    tt_total[i,1,3] = cross_95_353[1][i]\n",
    "    tt_total[i,2,3] = cross_150_353[1][i]\n",
    "    tt_total[i,1,0] = tt_total[i,0,1]\n",
    "    tt_total[i,2,0] = tt_total[i,0,2]\n",
    "    tt_total[i,3,0] = tt_total[i,0,3]\n",
    "    tt_total[i,2,1] = tt_total[i,1,2]\n",
    "    tt_total[i,3,1] = tt_total[i,1,3]\n",
    "    tt_total[i,3,2] = tt_total[i,2,3]\n",
    "    \n",
    "    ee_total[i,0,1] = cross_30_95[2][i]\n",
    "    ee_total[i,0,2] = cross_30_150[2][i]\n",
    "    ee_total[i,0,3] = cross_30_353[2][i]\n",
    "    ee_total[i,1,2] = cross_95_150[2][i]\n",
    "    ee_total[i,1,3] = cross_95_353[2][i]\n",
    "    ee_total[i,2,3] = cross_150_353[2][i]\n",
    "    ee_total[i,1,0] = ee_total[i,0,1]\n",
    "    ee_total[i,2,0] = ee_total[i,0,2]\n",
    "    ee_total[i,3,0] = ee_total[i,0,3]\n",
    "    ee_total[i,2,1] = ee_total[i,1,2]\n",
    "    ee_total[i,3,1] = ee_total[i,1,3]\n",
    "    ee_total[i,3,2] = ee_total[i,2,3]\n",
    "    \n",
    "    bb_total[i,0,1] = cross_30_95[3][i]\n",
    "    bb_total[i,0,2] = cross_30_150[3][i]\n",
    "    bb_total[i,0,3] = cross_30_353[3][i]\n",
    "    bb_total[i,1,2] = cross_95_150[3][i]\n",
    "    bb_total[i,1,3] = cross_95_353[3][i]\n",
    "    bb_total[i,2,3] = cross_150_353[3][i]\n",
    "    bb_total[i,1,0] = bb_total[i,0,1]\n",
    "    bb_total[i,2,0] = bb_total[i,0,2]\n",
    "    bb_total[i,3,0] = bb_total[i,0,3]\n",
    "    bb_total[i,2,1] = bb_total[i,1,2]\n",
    "    bb_total[i,3,1] = bb_total[i,1,3]\n",
    "    bb_total[i,3,2] = bb_total[i,2,3]"
   ]
  },
  {
   "cell_type": "markdown",
   "metadata": {},
   "source": [
    "- note that for binned PS inputs (usually due to partial sky pseudo-PS estimation), ABS method requires a list of angular modes of input binned PS."
   ]
  },
  {
   "cell_type": "code",
   "execution_count": 7,
   "metadata": {},
   "outputs": [],
   "source": [
    "separator = ap.abssep(tt_total,modes=Llist,bins=10,shift=10.,threshold=1.)\n",
    "rslt_tt = separator()"
   ]
  },
  {
   "cell_type": "code",
   "execution_count": 8,
   "metadata": {},
   "outputs": [],
   "source": [
    "separator = ap.abssep(ee_total,modes=Llist,bins=10,shift=30.,threshold=1.)\n",
    "rslt_ee = separator()"
   ]
  },
  {
   "cell_type": "code",
   "execution_count": 9,
   "metadata": {},
   "outputs": [],
   "source": [
    "separator = ap.abssep(bb_total,modes=Llist,bins=10,shift=30.,threshold=1.)\n",
    "rslt_bb = separator()"
   ]
  },
  {
   "cell_type": "code",
   "execution_count": 10,
   "metadata": {},
   "outputs": [
    {
     "data": {
      "text/plain": [
       "(1, 384)"
      ]
     },
     "execution_count": 10,
     "metadata": {},
     "output_type": "execute_result"
    },
    {
     "data": {
      "image/png": "[encoded data removed]",
      "text/plain": [
       "<Figure size 360x360 with 1 Axes>"
      ]
     },
     "metadata": {
      "needs_background": "light"
     },
     "output_type": "display_data"
    }
   ],
   "source": [
    "fig,ax = matplotlib.pyplot.subplots(figsize=(5,5))\n",
    "\n",
    "ax.scatter(rslt_tt[0],rslt_tt[1],\n",
    "           color='red',marker='o',label=r'ABS TT')\n",
    "ax.scatter(rslt_ee[0],rslt_ee[1],\n",
    "           color='green',marker='s',label=r'ABS TT')\n",
    "ax.scatter(rslt_bb[0],rslt_bb[1],\n",
    "           color='orange',marker='X',label=r'ABS TT')\n",
    "\n",
    "cmb_cl = hp.anafast(mapcmb)\n",
    "ell = np.arange(cmb_cl.shape[1])\n",
    "ax.plot((0.5/np.pi)*ell*(ell+1)*cmb_cl[0],\n",
    "        color='black',linestyle='-',label=r'CMB TT')\n",
    "ax.plot((0.5/np.pi)*ell*(ell+1)*cmb_cl[1],\n",
    "        color='black',linestyle='--',label=r'CMB EE')\n",
    "ax.plot((0.5/np.pi)*ell*(ell+1)*cmb_cl[2],\n",
    "        color='black',linestyle=':',label=r'CMB BB')\n",
    "\n",
    "ax.fill_between((2*NSIDE,3*NSIDE),(1e-7,1e-7),(1e7,1e7),\n",
    "                color='gray',linestyle='--',alpha=0.5)\n",
    "\n",
    "ax.set_yscale('log')\n",
    "ax.set_xscale('log')\n",
    "ax.legend(loc=2)\n",
    "ax.set_xlabel(r'$\\ell$',fontsize=15)\n",
    "ax.set_ylabel(r'$D_\\ell$ ($\\mu K^2$)',fontsize=15)\n",
    "ax.tick_params(axis='both', labelsize=15)\n",
    "ax.set_ylim((1.e-7,1.e7))\n",
    "ax.set_xlim((1,3*NSIDE))"
   ]
  },
  {
   "cell_type": "markdown",
   "metadata": {},
   "source": [
    "end"
   ]
  }
 ],
 "metadata": {
  "kernelspec": {
   "display_name": "Python 3",
   "language": "python",
   "name": "python3"
  },
  "language_info": {
   "codemirror_mode": {
    "name": "ipython",
    "version": 3
   },
   "file_extension": ".py",
   "mimetype": "text/x-python",
   "name": "python",
   "nbconvert_exporter": "python",
   "pygments_lexer": "ipython3",
   "version": "3.6.9"
  }
 },
 "nbformat": 4,
 "nbformat_minor": 4
}
