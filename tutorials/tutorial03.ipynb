{
 "cells": [
  {
   "cell_type": "markdown",
   "metadata": {},
   "source": [
    "# tutorial 03\n",
    "\n",
    "## ABS with mask"
   ]
  },
  {
   "cell_type": "code",
   "execution_count": 1,
   "metadata": {},
   "outputs": [],
   "source": [
    "import numpy as np\n",
    "import healpy as hp\n",
    "import matplotlib\n",
    "import abspy as ap\n",
    "%matplotlib inline\n",
    "import warnings\n",
    "warnings.filterwarnings('ignore')"
   ]
  },
  {
   "cell_type": "markdown",
   "metadata": {},
   "source": [
    "### read in maps"
   ]
  },
  {
   "cell_type": "code",
   "execution_count": 2,
   "metadata": {},
   "outputs": [
    {
     "name": "stdout",
     "output_type": "stream",
     "text": [
      "(3, 196608) float64\n"
     ]
    }
   ],
   "source": [
    "map30 = hp.read_map('./data/TQU_30GHz_r7.fits',field=[0,1,2],dtype=np.float64,verbose=0)\n",
    "map95 = hp.read_map('./data/TQU_95GHz_r7.fits',field=[0,1,2],dtype=np.float64,verbose=0)\n",
    "map150 = hp.read_map('./data/TQU_150GHz_r7.fits',field=[0,1,2],dtype=np.float64,verbose=0)\n",
    "map353 = hp.read_map('./data/TQU_353GHz_r7.fits',field=[0,1,2],dtype=np.float64,verbose=0)\n",
    "mapcmb = hp.read_map('./data/TQU_CMB_r7.fits',field=[0,1,2],dtype=np.float64,verbose=0)\n",
    "print (map95.shape, map95.dtype)"
   ]
  },
  {
   "cell_type": "code",
   "execution_count": 3,
   "metadata": {},
   "outputs": [
    {
     "data": {
      "image/png": "[encoded data removed]",
      "text/plain": [
       "<Figure size 360x360 with 2 Axes>"
      ]
     },
     "metadata": {
      "needs_background": "light"
     },
     "output_type": "display_data"
    }
   ],
   "source": [
    "mask = hp.read_map('./data/ali_mask_r7.fits',dtype=bool,verbose=False)\n",
    "\n",
    "fig = matplotlib.pyplot.figure(figsize=(5,5))\n",
    "gs = matplotlib.gridspec.GridSpec(5, 5)\n",
    "fig.add_subplot(gs[0:5, 0:5])\n",
    "hp.mollview(mask,title='AliCPT mask map',hold=True)"
   ]
  },
  {
   "cell_type": "markdown",
   "metadata": {},
   "source": [
    "- PS estimation requires a built-in PS estimator (by default NaMaster)"
   ]
  },
  {
   "cell_type": "code",
   "execution_count": 4,
   "metadata": {},
   "outputs": [],
   "source": [
    "est = ap.pstimator()"
   ]
  },
  {
   "cell_type": "code",
   "execution_count": 5,
   "metadata": {},
   "outputs": [],
   "source": [
    "auto_cmb = est.auto_teb(mapcmb, mask, aposcale=1.0, binning=10)\n",
    "\n",
    "auto_30 = est.auto_teb(map30, mask, aposcale=1.0, binning=10)\n",
    "auto_95 = est.auto_teb(map95, mask, aposcale=1.0, binning=10)\n",
    "auto_150 = est.auto_teb(map150, mask, aposcale=1.0, binning=10)\n",
    "auto_353 = est.auto_teb(map353, mask, aposcale=1.0, binning=10)\n",
    "\n",
    "cross_30_95 = est.cross_teb(np.vstack([map30,map95]), mask, aposcale=1.0, binning=10)\n",
    "cross_30_150 = est.cross_teb(np.vstack([map30,map150]), mask, aposcale=1.0, binning=10)\n",
    "cross_30_353 = est.cross_teb(np.vstack([map30,map353]), mask, aposcale=1.0, binning=10)\n",
    "\n",
    "cross_95_150 = est.cross_teb(np.vstack([map95,map150]), mask, aposcale=1.0, binning=10)\n",
    "cross_95_353 = est.cross_teb(np.vstack([map95,map353]), mask, aposcale=1.0, binning=10)\n",
    "\n",
    "cross_150_353 = est.cross_teb(np.vstack([map150,map353]), mask, aposcale=1.0, binning=10)"
   ]
  },
  {
   "cell_type": "code",
   "execution_count": 6,
   "metadata": {},
   "outputs": [],
   "source": [
    "Nfreq = 4  # 30,95,150,353\n",
    "Llist = list(auto_cmb[0])\n",
    "Nell = len(Llist)\n",
    "\n",
    "tt_total = np.zeros((Nell,Nfreq,Nfreq))\n",
    "\n",
    "for i in range(Nell):\n",
    "    # diagnoal\n",
    "    tt_total[i,0,0] = auto_30[1][i]\n",
    "    tt_total[i,1,1] = auto_95[1][i]\n",
    "    tt_total[i,2,2] = auto_150[1][i]\n",
    "    tt_total[i,3,3] = auto_353[1][i]\n",
    "    # cross\n",
    "    tt_total[i,0,1] = cross_30_95[1][i]\n",
    "    tt_total[i,0,2] = cross_30_150[1][i]\n",
    "    tt_total[i,0,3] = cross_30_353[1][i]\n",
    "    tt_total[i,1,2] = cross_95_150[1][i]\n",
    "    tt_total[i,1,3] = cross_95_353[1][i]\n",
    "    tt_total[i,2,3] = cross_150_353[1][i]\n",
    "    tt_total[i,1,0] = tt_total[i,0,1]\n",
    "    tt_total[i,2,0] = tt_total[i,0,2]\n",
    "    tt_total[i,3,0] = tt_total[i,0,3]\n",
    "    tt_total[i,2,1] = tt_total[i,1,2]\n",
    "    tt_total[i,3,1] = tt_total[i,1,3]\n",
    "    tt_total[i,3,2] = tt_total[i,2,3]"
   ]
  },
  {
   "cell_type": "code",
   "execution_count": 15,
   "metadata": {},
   "outputs": [],
   "source": [
    "separator = ap.abssep(tt_total,llist=Llist,lbin=10,shift=10.,cut=1.)\n",
    "rslt_tt = separator()"
   ]
  },
  {
   "cell_type": "code",
   "execution_count": 16,
   "metadata": {},
   "outputs": [
    {
     "data": {
      "text/plain": [
       "(1e-07, 10000000.0)"
      ]
     },
     "execution_count": 16,
     "metadata": {},
     "output_type": "execute_result"
    },
    {
     "data": {
      "image/png": "[encoded data removed]",
      "text/plain": [
       "<Figure size 360x360 with 1 Axes>"
      ]
     },
     "metadata": {
      "needs_background": "light"
     },
     "output_type": "display_data"
    }
   ],
   "source": [
    "fig,ax = matplotlib.pyplot.subplots(figsize=(5,5))\n",
    "\n",
    "ax.scatter(rslt_tt[0],rslt_tt[1],\n",
    "           color='red',marker='o',label=r'ABS $D^{TT}_\\ell$')\n",
    "\n",
    "ax.plot(auto_cmb[0],(0.5/np.pi)*auto_cmb[0]*(auto_cmb[0]+1)*auto_cmb[1],\n",
    "        color='red',marker='x',label=r'CMB $D^{TT}_\\ell$')\n",
    "\n",
    "ax.set_yscale('log')\n",
    "ax.set_xscale('log')\n",
    "ax.legend(loc=2)\n",
    "ax.set_xlabel(r'$\\ell$',fontsize=15)\n",
    "ax.set_ylabel(r'$D_\\ell$ ($\\nu K^2$)',fontsize=15)\n",
    "ax.set_ylim((1.e-7,1.e7))"
   ]
  },
  {
   "cell_type": "markdown",
   "metadata": {},
   "source": [
    "end"
   ]
  }
 ],
 "metadata": {
  "kernelspec": {
   "display_name": "Python 3",
   "language": "python",
   "name": "python3"
  },
  "language_info": {
   "codemirror_mode": {
    "name": "ipython",
    "version": 3
   },
   "file_extension": ".py",
   "mimetype": "text/x-python",
   "name": "python",
   "nbconvert_exporter": "python",
   "pygments_lexer": "ipython3",
   "version": "3.6.9"
  }
 },
 "nbformat": 4,
 "nbformat_minor": 4
}
