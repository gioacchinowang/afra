{
 "cells": [
  {
   "cell_type": "markdown",
   "metadata": {},
   "source": [
    "# tutorial 03\n",
    "\n",
    "## ABS with mask"
   ]
  },
  {
   "cell_type": "code",
   "execution_count": 1,
   "metadata": {},
   "outputs": [],
   "source": [
    "import numpy as np\n",
    "import healpy as hp\n",
    "import matplotlib\n",
    "import abspy as ap\n",
    "%matplotlib inline\n",
    "import warnings\n",
    "warnings.filterwarnings('ignore')"
   ]
  },
  {
   "cell_type": "markdown",
   "metadata": {},
   "source": [
    "- import fits maps"
   ]
  },
  {
   "cell_type": "code",
   "execution_count": 2,
   "metadata": {},
   "outputs": [
    {
     "name": "stdout",
     "output_type": "stream",
     "text": [
      "(3, 49152) float64\n"
     ]
    }
   ],
   "source": [
    "map95 = hp.read_map('./data/TQU_95GHz_r6.fits',field=[0,1,2],dtype=np.float64,verbose=0)\n",
    "map150 = hp.read_map('./data/TQU_150GHz_r6.fits',field=[0,1,2],dtype=np.float64,verbose=0)\n",
    "map353 = hp.read_map('./data/TQU_353GHz_r6.fits',field=[0,1,2],dtype=np.float64,verbose=0)\n",
    "mapcmb = hp.read_map('./data/TQU_CMB_r6.fits',field=[0,1,2],dtype=np.float64,verbose=0)\n",
    "print (map95.shape, map95.dtype)"
   ]
  },
  {
   "cell_type": "markdown",
   "metadata": {},
   "source": [
    "- mask preparation"
   ]
  },
  {
   "cell_type": "code",
   "execution_count": 3,
   "metadata": {},
   "outputs": [],
   "source": [
    "# iso-angular-separation mask generator\n",
    "def mask_map_prod(nside, clon, clat, sep):\n",
    "    _c = np.pi/180\n",
    "    def hav(theta):\n",
    "        return 0.5-0.5*np.cos(theta)\n",
    "    _tmp = np.ones(hp.nside2npix(nside),dtype=bool)\n",
    "    _count = 0\n",
    "    for _ipix in range(len(_tmp)):\n",
    "        _lon,_lat = hp.pix2ang(nside,_ipix,lonlat=True)\n",
    "        # iso-angle separation\n",
    "        if((hav(np.fabs(clat-_lat)*_c)+np.cos(clat*_c)*np.cos(_lat*_c)*hav(np.fabs(clon-_lon)*_c))>hav(sep*_c)):\n",
    "            _count = _count + 1\n",
    "            _tmp[_ipix] = False\n",
    "    print ('sky faction: ', (1 - _count/(12*nside*nside)))\n",
    "    return _tmp"
   ]
  },
  {
   "cell_type": "markdown",
   "metadata": {},
   "source": [
    "- Ali mask"
   ]
  },
  {
   "cell_type": "code",
   "execution_count": 6,
   "metadata": {},
   "outputs": [
    {
     "data": {
      "image/png": "[encoded data removed]",
      "text/plain": [
       "<Figure size 360x360 with 2 Axes>"
      ]
     },
     "metadata": {
      "needs_background": "light"
     },
     "output_type": "display_data"
    }
   ],
   "source": [
    "mask = hp.read_map('./data/Ali_mask_r6.fits',verbose=False)\n",
    "\n",
    "fig = matplotlib.pyplot.figure(figsize=(5,5))\n",
    "gs = matplotlib.gridspec.GridSpec(5, 5)\n",
    "fig.add_subplot(gs[0:5, 0:5])\n",
    "hp.mollview(mask,title='mask map',hold=True)"
   ]
  },
  {
   "cell_type": "code",
   "execution_count": 17,
   "metadata": {},
   "outputs": [
    {
     "name": "stdout",
     "output_type": "stream",
     "text": [
      "sky faction:  0.03076171875\n"
     ]
    },
    {
     "data": {
      "image/png": "[encoded data removed]",
      "text/plain": [
       "<Figure size 360x360 with 2 Axes>"
      ]
     },
     "metadata": {
      "needs_background": "light"
     },
     "output_type": "display_data"
    }
   ],
   "source": [
    "mask = mask_map_prod(64, 0, 90, 20)\n",
    "\n",
    "fig = matplotlib.pyplot.figure(figsize=(5,5))\n",
    "gs = matplotlib.gridspec.GridSpec(5, 5)\n",
    "fig.add_subplot(gs[0:5, 0:5])\n",
    "hp.mollview(mask,title='mask map',hold=True)"
   ]
  },
  {
   "cell_type": "markdown",
   "metadata": {},
   "source": [
    "- PS estimation requires a built-in PS estimator (by default NaMaster)"
   ]
  },
  {
   "cell_type": "code",
   "execution_count": 18,
   "metadata": {},
   "outputs": [],
   "source": [
    "est = ap.pstimator()\n",
    "BIN = 10\n",
    "APOD = 1.\n",
    "\n",
    "f95auto = est.auto_teb(list(map95),mask,\n",
    "                       aposcale=APOD,binning=BIN)\n",
    "f150auto = est.auto_teb(list(map150),mask,\n",
    "                        aposcale=APOD,binning=BIN)\n",
    "f353auto = est.auto_teb(list(map353),mask,\n",
    "                        aposcale=APOD,binning=BIN)\n",
    "\n",
    "f95f150 = est.cross_teb(list(np.vstack([map95,map150])),\n",
    "                        mask,aposcale=APOD,binning=BIN)\n",
    "f95f353 = est.cross_teb(list(np.vstack([map95,map353])),\n",
    "                        mask,aposcale=APOD,binning=BIN)\n",
    "f150f353 = est.cross_teb(list(np.vstack([map150,map353])),\n",
    "                         mask,aposcale=APOD,binning=BIN)"
   ]
  },
  {
   "cell_type": "code",
   "execution_count": 23,
   "metadata": {},
   "outputs": [
    {
     "name": "stdout",
     "output_type": "stream",
     "text": [
      "ell list [6.5, 16.5, 26.5, 36.5, 46.5, 56.5, 66.5, 76.5, 86.5, 96.5, 106.5, 116.5, 126.5, 136.5, 146.5, 156.5, 166.5, 176.5, 186.5]\n"
     ]
    }
   ],
   "source": [
    "Nfreq = 3  # 95,150,353\n",
    "Llist = list(f95auto[0])\n",
    "Nell = len(Llist)\n",
    "\n",
    "print ('ell list',Llist)\n",
    "\n",
    "tt_total = np.zeros((Nell,Nfreq,Nfreq))\n",
    "ee_total = np.zeros((Nell,Nfreq,Nfreq))\n",
    "bb_total = np.zeros((Nell,Nfreq,Nfreq))\n",
    "\n",
    "for i in range(Nell):\n",
    "    # diagnoal\n",
    "    tt_total[i,0,0] = f95auto[1][i]\n",
    "    tt_total[i,1,1] = f150auto[1][i]\n",
    "    tt_total[i,2,2] = f353auto[1][i]\n",
    "    \n",
    "    ee_total[i,0,0] = f95auto[2][i]\n",
    "    ee_total[i,1,1] = f150auto[2][i]\n",
    "    ee_total[i,2,2] = f353auto[2][i]\n",
    "    \n",
    "    bb_total[i,0,0] = f95auto[3][i]\n",
    "    bb_total[i,1,1] = f150auto[3][i]\n",
    "    bb_total[i,2,2] = f353auto[3][i]\n",
    "    # cross\n",
    "    tt_total[i,0,1] = f95f150[1][i]\n",
    "    tt_total[i,0,2] = f95f353[1][i]\n",
    "    tt_total[i,1,2] = f150f353[1][i]\n",
    "    tt_total[i,1,0] = tt_total[i,0,1]\n",
    "    tt_total[i,2,0] = tt_total[i,0,2]\n",
    "    tt_total[i,2,1] = tt_total[i,1,2]\n",
    "    \n",
    "    ee_total[i,0,1] = f95f150[2][i]\n",
    "    ee_total[i,0,2] = f95f353[2][i]\n",
    "    ee_total[i,1,2] = f150f353[2][i]\n",
    "    ee_total[i,1,0] = ee_total[i,0,1]\n",
    "    ee_total[i,2,0] = ee_total[i,0,2]\n",
    "    ee_total[i,2,1] = ee_total[i,1,2]\n",
    "    \n",
    "    bb_total[i,0,1] = f95f150[3][i]\n",
    "    bb_total[i,0,2] = f95f353[3][i]\n",
    "    bb_total[i,1,2] = f150f353[3][i]\n",
    "    bb_total[i,1,0] = bb_total[i,0,1]\n",
    "    bb_total[i,2,0] = bb_total[i,0,2]\n",
    "    bb_total[i,2,1] = bb_total[i,1,2]"
   ]
  },
  {
   "cell_type": "code",
   "execution_count": 20,
   "metadata": {},
   "outputs": [],
   "source": [
    "separator = ap.abssep(tt_total,llist=Llist,lbin=5,shift=10.,cut=1.)\n",
    "rslt_tt = separator()\n",
    "separator = ap.abssep(ee_total,llist=Llist,lbin=5,shift=10.,cut=1.)\n",
    "rslt_ee = separator()\n",
    "separator = ap.abssep(bb_total,llist=Llist,lbin=5,shift=10.,cut=1.)\n",
    "rslt_bb = separator()"
   ]
  },
  {
   "cell_type": "code",
   "execution_count": 21,
   "metadata": {},
   "outputs": [
    {
     "data": {
      "text/plain": [
       "(1e-07, 10000000.0)"
      ]
     },
     "execution_count": 21,
     "metadata": {},
     "output_type": "execute_result"
    },
    {
     "data": {
      "image/png": "[encoded data removed]",
      "text/plain": [
       "<Figure size 360x360 with 1 Axes>"
      ]
     },
     "metadata": {
      "needs_background": "light"
     },
     "output_type": "display_data"
    }
   ],
   "source": [
    "fig,ax = matplotlib.pyplot.subplots(figsize=(5,5))\n",
    "\n",
    "ax.scatter(rslt_tt[0],rslt_tt[1],\n",
    "           color='red',marker='o',label=r'ABS $D^{TT}_\\ell$')\n",
    "ax.scatter(rslt_ee[0],rslt_ee[1],\n",
    "           color='green',marker='s',label=r'ABS $D^{EE}_\\ell$')\n",
    "ax.scatter(rslt_bb[0],rslt_bb[1],\n",
    "           color='orange',marker='X',label=r'ABS $D^{BB}_\\ell$')\n",
    "\n",
    "cmb_cl = hp.anafast(mapcmb)\n",
    "ell = np.arange(cmb_cl.shape[1])\n",
    "ax.plot((0.5/np.pi)*ell*(ell+1)*cmb_cl[0],\n",
    "        color='black',linestyle='-',label=r'CMB $D^{TT}_\\ell$')\n",
    "ax.plot((0.5/np.pi)*ell*(ell+1)*cmb_cl[1],\n",
    "        color='black',linestyle='--',label=r'CMB $D^{EE}_\\ell$')\n",
    "ax.plot((0.5/np.pi)*ell*(ell+1)*cmb_cl[2],\n",
    "        color='black',linestyle=':',label=r'CMB $D^{BB}_\\ell$')\n",
    "\n",
    "ax.set_yscale('log')\n",
    "ax.set_xscale('log')\n",
    "ax.legend(loc=2)\n",
    "ax.set_xlabel(r'$\\ell$',fontsize=15)\n",
    "ax.set_ylabel(r'$D_\\ell$ ($\\nu K^2$)',fontsize=15)\n",
    "ax.set_ylim((1.e-7,1.e7))"
   ]
  },
  {
   "cell_type": "markdown",
   "metadata": {},
   "source": [
    "end"
   ]
  }
 ],
 "metadata": {
  "kernelspec": {
   "display_name": "Python 3",
   "language": "python",
   "name": "python3"
  },
  "language_info": {
   "codemirror_mode": {
    "name": "ipython",
    "version": 3
   },
   "file_extension": ".py",
   "mimetype": "text/x-python",
   "name": "python",
   "nbconvert_exporter": "python",
   "pygments_lexer": "ipython3",
   "version": "3.6.9"
  }
 },
 "nbformat": 4,
 "nbformat_minor": 4
}
