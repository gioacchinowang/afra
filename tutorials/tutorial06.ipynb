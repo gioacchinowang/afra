{
 "cells": [
  {
   "cell_type": "markdown",
   "metadata": {},
   "source": [
    "# ABS tutorial 06 (for template fitting)\n",
    "\n",
    "## template fitting pipeline pre-process"
   ]
  },
  {
   "cell_type": "code",
   "execution_count": 1,
   "metadata": {},
   "outputs": [],
   "source": [
    "import numpy as np\n",
    "import healpy as hp\n",
    "import matplotlib.pyplot as plt\n",
    "import matplotlib.gridspec as gsp\n",
    "import abspy as ap\n",
    "import seaborn as sns\n",
    "import warnings\n",
    "warnings.filterwarnings('ignore')"
   ]
  },
  {
   "cell_type": "markdown",
   "metadata": {},
   "source": [
    "### read maps"
   ]
  },
  {
   "cell_type": "code",
   "execution_count": 2,
   "metadata": {},
   "outputs": [
    {
     "name": "stdout",
     "output_type": "stream",
     "text": [
      "Sigma is 0.000000 arcmin (0.000000 rad) \n",
      "-> fwhm is 0.000000 arcmin\n",
      "Sigma is 12.739827 arcmin (0.003706 rad) \n",
      "-> fwhm is 30.000000 arcmin\n",
      "Sigma is 0.000000 arcmin (0.000000 rad) \n",
      "-> fwhm is 0.000000 arcmin\n",
      "Sigma is 7.643896 arcmin (0.002224 rad) \n",
      "-> fwhm is 18.000000 arcmin\n",
      "Sigma is 0.000000 arcmin (0.000000 rad) \n",
      "-> fwhm is 0.000000 arcmin\n",
      "Sigma is 5.095931 arcmin (0.001482 rad) \n",
      "-> fwhm is 12.000000 arcmin\n",
      "Sigma is 0.000000 arcmin (0.000000 rad) \n",
      "-> fwhm is 0.000000 arcmin\n",
      "Sigma is 2.038372 arcmin (0.000593 rad) \n",
      "-> fwhm is 4.800000 arcmin\n",
      "Sigma is 0.000000 arcmin (0.000000 rad) \n",
      "-> fwhm is 0.000000 arcmin\n"
     ]
    },
    {
     "data": {
      "image/png": "[encoded data removed]",
      "text/plain": [
       "<Figure size 360x360 with 2 Axes>"
      ]
     },
     "metadata": {
      "needs_background": "light"
     },
     "output_type": "display_data"
    }
   ],
   "source": [
    "NSIDE = 128\n",
    "fwhm = [0.5*np.pi/180.,0.3*np.pi/180.,0.2*np.pi/180.,0.08*np.pi/180.]  # FWHM for beam effect\n",
    "\n",
    "map30 = hp.read_map('./data/pysm_s1d1_30.fits',field=[0,1,2],dtype=np.float32,verbose=0)\n",
    "map95 = hp.read_map('./data/pysm_s1d1_95.fits',field=[0,1,2],dtype=np.float32,verbose=0)\n",
    "map150 = hp.read_map('./data/pysm_s1d1_150.fits',field=[0,1,2],dtype=np.float32,verbose=0)\n",
    "map353 = hp.read_map('./data/pysm_s1d1_353.fits',field=[0,1,2],dtype=np.float32,verbose=0)\n",
    "cmb_cl = hp.read_cl('./data/camb_cls.fits')\n",
    "\n",
    "ell = np.arange(cmb_cl.shape[1])\n",
    "mapcmb = hp.synfast(cmb_cl,nside=NSIDE,new=True)\n",
    "map30 = hp.smoothing(map30+mapcmb,fwhm=fwhm[0])\n",
    "map95 = hp.smoothing(map95+mapcmb,fwhm=fwhm[1])\n",
    "map150 = hp.smoothing(map150+mapcmb,fwhm=fwhm[2])\n",
    "map353 = hp.smoothing(map353+mapcmb,fwhm=fwhm[3])\n",
    "\n",
    "vmap30 = hp.read_map('./data/plkvar_30.fits',field=[0,1,2],dtype=np.float32,verbose=0)\n",
    "vmap95 = hp.read_map('./data/alivar_95.fits',field=[0,1,2],dtype=np.float32,verbose=0)\n",
    "vmap150 = hp.read_map('./data/alivar_150.fits',field=[0,1,2],dtype=np.float32,verbose=0)\n",
    "vmap353 = hp.read_map('./data/plkvar_353.fits',field=[0,1,2],dtype=np.float32,verbose=0)\n",
    "\n",
    "mask = hp.read_map('./data/ali_mask.fits',dtype=bool,verbose=False)\n",
    "\n",
    "fig = plt.figure(figsize=(5,5))\n",
    "gs = gsp.GridSpec(5, 5)\n",
    "fig.add_subplot(gs[0:5, 0:5])\n",
    "hp.mollview(mask,title='AliCPT mask map',hold=True)"
   ]
  },
  {
   "cell_type": "markdown",
   "metadata": {},
   "source": [
    "### simple likelihood pre-process\n",
    "\n",
    "- T maps"
   ]
  },
  {
   "cell_type": "code",
   "execution_count": 3,
   "metadata": {},
   "outputs": [
    {
     "name": "stdout",
     "output_type": "stream",
     "text": [
      "CPU times: user 1min 44s, sys: 813 ms, total: 1min 45s\n",
      "Wall time: 30.4 s\n"
     ]
    },
    {
     "data": {
      "text/plain": [
       "<matplotlib.axes._subplots.AxesSubplot at 0x7f3641fede20>"
      ]
     },
     "execution_count": 3,
     "metadata": {},
     "output_type": "execute_result"
    },
    {
     "data": {
      "image/png": "[encoded data removed]",
      "text/plain": [
       "<Figure size 576x432 with 2 Axes>"
      ]
     },
     "metadata": {
      "needs_background": "light"
     },
     "output_type": "display_data"
    }
   ],
   "source": [
    "%%time\n",
    "\n",
    "RESAMP = 20\n",
    "APOSCALE = 6.\n",
    "PSBIN = 40\n",
    "\n",
    "fullmap = dict()\n",
    "fullmap[95] = map95[0].reshape(1,-1)\n",
    "fullmap[150] = map150[0].reshape(1,-1)\n",
    "#fullmap[30] = map30[0].reshape(1,-1)\n",
    "#fullmap[353] = map353[0].reshape(1,-1)\n",
    "\n",
    "fullvar = dict()\n",
    "fullvar[95] = vmap95[0].reshape(1,-1)\n",
    "fullvar[150] = vmap150[0].reshape(1,-1)\n",
    "#fullvar[30] = vmap30[0].reshape(1,-1)\n",
    "#fullvar[353] = vmap353[0].reshape(1,-1)\n",
    "\n",
    "fullbeam = dict()\n",
    "fullbeam[95] = fwhm[1]\n",
    "fullbeam[150] = fwhm[2]\n",
    "\n",
    "tmpmap = dict()\n",
    "tmpmap[30] = map30[0].reshape(1,-1)\n",
    "tmpmap[353] = map353[0].reshape(1,-1)\n",
    "\n",
    "tmpbeam = dict()\n",
    "tmpbeam[30] = fwhm[0]\n",
    "tmpbeam[353] = fwhm[3]\n",
    "\n",
    "pipeline = ap.tpfpipe(fullmap,mask=mask.reshape(1,-1),variances=fullvar,fwhms=fullbeam,\n",
    "                      templates=tmpmap,template_fwhms=tmpbeam)\n",
    "rslt_t = pipeline.preprocess_simple(aposcale=APOSCALE,psbin=PSBIN,nsamp=RESAMP)\n",
    "\n",
    "fig,ax = plt.subplots(figsize=(8,6))\n",
    "sns.heatmap(rslt_t[1],cmap='coolwarm',annot=False,ax=ax)"
   ]
  },
  {
   "cell_type": "markdown",
   "metadata": {},
   "source": [
    "- QU maps"
   ]
  },
  {
   "cell_type": "code",
   "execution_count": 4,
   "metadata": {},
   "outputs": [
    {
     "name": "stdout",
     "output_type": "stream",
     "text": [
      "CPU times: user 9min 10s, sys: 3.76 s, total: 9min 14s\n",
      "Wall time: 2min 40s\n"
     ]
    },
    {
     "data": {
      "text/plain": [
       "<matplotlib.axes._subplots.AxesSubplot at 0x7f3641ef8100>"
      ]
     },
     "execution_count": 4,
     "metadata": {},
     "output_type": "execute_result"
    },
    {
     "data": {
      "image/png": "[encoded data removed]",
      "text/plain": [
       "<Figure size 576x432 with 2 Axes>"
      ]
     },
     "metadata": {
      "needs_background": "light"
     },
     "output_type": "display_data"
    }
   ],
   "source": [
    "%%time\n",
    "\n",
    "RESAMP = 20\n",
    "APOSCALE = 6.\n",
    "PSBIN = 40\n",
    "\n",
    "fullmap = dict()\n",
    "fullmap[95] = map95[1:]\n",
    "fullmap[150] = map150[1:]\n",
    "#fullmap[30] = map30[1:]\n",
    "#fullmap[353] = map353[1:]\n",
    "\n",
    "fullvar = dict()\n",
    "fullvar[95] = vmap95[1:]\n",
    "fullvar[150] = vmap150[1:]\n",
    "#fullvar[30] = vmap30[1:]\n",
    "#fullvar[353] = vmap353[1:]\n",
    "\n",
    "fullbeam = dict()\n",
    "fullbeam[95] = fwhm[1]\n",
    "fullbeam[150] = fwhm[2]\n",
    "\n",
    "tmpmap = dict()\n",
    "tmpmap[30] = map30[1:]\n",
    "tmpmap[353] = map353[1:]\n",
    "\n",
    "tmpbeam = dict()\n",
    "tmpbeam[30] = fwhm[0]\n",
    "tmpbeam[353] = fwhm[3]\n",
    "\n",
    "pipeline = ap.tpfpipe(fullmap,mask=mask.reshape(1,-1),variances=fullvar,fwhms=fullbeam,\n",
    "                      templates=tmpmap,template_fwhms=tmpbeam)\n",
    "rslt_eb = pipeline.preprocess_simple(aposcale=APOSCALE,psbin=PSBIN,nsamp=RESAMP)\n",
    "\n",
    "fig,ax = plt.subplots(figsize=(8,6))\n",
    "sns.heatmap(rslt_eb[1],cmap='coolwarm',annot=False,ax=ax)"
   ]
  },
  {
   "cell_type": "markdown",
   "metadata": {},
   "source": [
    "end"
   ]
  }
 ],
 "metadata": {
  "kernelspec": {
   "display_name": "Python 3",
   "language": "python",
   "name": "python3"
  },
  "language_info": {
   "codemirror_mode": {
    "name": "ipython",
    "version": 3
   },
   "file_extension": ".py",
   "mimetype": "text/x-python",
   "name": "python",
   "nbconvert_exporter": "python",
   "pygments_lexer": "ipython3",
   "version": "3.8.2"
  }
 },
 "nbformat": 4,
 "nbformat_minor": 4
}
