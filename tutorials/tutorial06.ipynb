{
 "cells": [
  {
   "cell_type": "markdown",
   "metadata": {},
   "source": [
    "# Tutorial 06\n",
    "\n",
    "## template fitting pipeline pre-process"
   ]
  },
  {
   "cell_type": "code",
   "execution_count": 1,
   "metadata": {},
   "outputs": [],
   "source": [
    "import numpy as np\n",
    "import healpy as hp\n",
    "import matplotlib.pyplot as plt\n",
    "import afra as af\n",
    "import seaborn as sns\n",
    "import warnings\n",
    "warnings.filterwarnings('ignore')\n",
    "\n",
    "NSIDE = 128\n",
    "fwhm = [0.5*np.pi/180.,0.3*np.pi/180.,0.2*np.pi/180.,0.08*np.pi/180.]  # FWHM for beam effect\n",
    "\n",
    "map30f = hp.read_map('./data/pysm_s1d1_30.fits',field=[0,1,2],dtype=np.float32,verbose=0)\n",
    "map95f = hp.read_map('./data/pysm_s1d1_95.fits',field=[0,1,2],dtype=np.float32,verbose=0)\n",
    "map150f = hp.read_map('./data/pysm_s1d1_150.fits',field=[0,1,2],dtype=np.float32,verbose=0)\n",
    "map353f = hp.read_map('./data/pysm_s1d1_353.fits',field=[0,1,2],dtype=np.float32,verbose=0)\n",
    "cmb_cl = hp.read_cl('./data/camb_cls.fits')\n",
    "\n",
    "vmap30 = hp.read_map('./data/plkvar_30.fits',field=[0,1,2],dtype=np.float32,verbose=0)\n",
    "vmap95 = hp.read_map('./data/alivar_95.fits',field=[0,1,2],dtype=np.float32,verbose=0)\n",
    "vmap150 = hp.read_map('./data/alivar_150.fits',field=[0,1,2],dtype=np.float32,verbose=0)\n",
    "vmap353 = hp.read_map('./data/plkvar_353.fits',field=[0,1,2],dtype=np.float32,verbose=0)\n",
    "\n",
    "nmap30 = np.random.normal(0.,1.,size=vmap30.shape)*np.sqrt(vmap30)\n",
    "nmap95 = np.random.normal(0.,1.,size=vmap95.shape)*np.sqrt(vmap95)\n",
    "nmap150 = np.random.normal(0.,1.,size=vmap150.shape)*np.sqrt(vmap150)\n",
    "nmap353 = np.random.normal(0.,1.,size=vmap353.shape)*np.sqrt(vmap353)\n",
    "\n",
    "ell = np.arange(cmb_cl.shape[1])\n",
    "mapcmb = hp.synfast(cmb_cl,nside=NSIDE,new=True,verbose=0)\n",
    "map30 = hp.smoothing(mapcmb+map30f+nmap30,fwhm=fwhm[0],verbose=0)\n",
    "map95 = hp.smoothing(mapcmb+map95f+nmap95,fwhm=fwhm[1],verbose=0)\n",
    "map150 = hp.smoothing(mapcmb+map150f+nmap150,fwhm=fwhm[2],verbose=0)\n",
    "map353 = hp.smoothing(mapcmb+map353f+nmap353,fwhm=fwhm[3],verbose=0)\n",
    "\n",
    "mask = hp.read_map('./data/ali_mask.fits',dtype=bool,verbose=0)"
   ]
  },
  {
   "cell_type": "markdown",
   "metadata": {},
   "source": [
    "#### simple likelihood pre-process\n",
    "\n",
    "- T maps"
   ]
  },
  {
   "cell_type": "code",
   "execution_count": 2,
   "metadata": {},
   "outputs": [
    {
     "name": "stdout",
     "output_type": "stream",
     "text": [
      "CPU times: user 16min 10s, sys: 647 ms, total: 16min 11s\n",
      "Wall time: 2min 2s\n"
     ]
    },
    {
     "data": {
      "text/plain": [
       "<AxesSubplot:>"
      ]
     },
     "execution_count": 2,
     "metadata": {},
     "output_type": "execute_result"
    },
    {
     "data": {
      "image/png": "[encoded data removed]",
      "text/plain": [
       "<Figure size 432x360 with 2 Axes>"
      ]
     },
     "metadata": {
      "needs_background": "light"
     },
     "output_type": "display_data"
    }
   ],
   "source": [
    "%%time\n",
    "\n",
    "RESAMP = 30\n",
    "APOSCALE = 6.\n",
    "PSBIN = 40\n",
    "\n",
    "fullmap = dict()\n",
    "fullmap[95] = map95[0].reshape(1,-1)\n",
    "fullmap[150] = map150[0].reshape(1,-1)\n",
    "\n",
    "fullvar = dict()\n",
    "fullvar[95] = vmap95[0].reshape(1,-1)\n",
    "fullvar[150] = vmap150[0].reshape(1,-1)\n",
    "\n",
    "fullbeam = dict()\n",
    "fullbeam[95] = fwhm[1]\n",
    "fullbeam[150] = fwhm[2]\n",
    "\n",
    "tmpmap = dict()\n",
    "tmpmap[30] = map30f[0].reshape(1,-1)\n",
    "tmpmap[353] = map353f[0].reshape(1,-1)\n",
    "\n",
    "tmpbeam = dict()\n",
    "tmpbeam[30] = fwhm[0]\n",
    "tmpbeam[353] = fwhm[3]\n",
    "\n",
    "pipeline = af.tpfpipe(fullmap,mask=mask.reshape(1,-1),variances=fullvar,fwhms=fullbeam,\n",
    "                      templates=tmpmap,template_fwhms=tmpbeam)\n",
    "rslt_t = pipeline.preprocess(aposcale=APOSCALE,psbin=PSBIN,nsamp=RESAMP)\n",
    "\n",
    "fig,ax = plt.subplots(figsize=(6,5))\n",
    "sns.heatmap(rslt_t[2],cmap='coolwarm',annot=False,ax=ax)"
   ]
  },
  {
   "cell_type": "markdown",
   "metadata": {},
   "source": [
    "- QU maps"
   ]
  },
  {
   "cell_type": "code",
   "execution_count": 3,
   "metadata": {},
   "outputs": [
    {
     "name": "stdout",
     "output_type": "stream",
     "text": [
      "CPU times: user 31min 23s, sys: 3.34 s, total: 31min 26s\n",
      "Wall time: 3min 58s\n"
     ]
    },
    {
     "data": {
      "text/plain": [
       "<AxesSubplot:>"
      ]
     },
     "execution_count": 3,
     "metadata": {},
     "output_type": "execute_result"
    },
    {
     "data": {
      "image/png": "[encoded data removed]",
      "text/plain": [
       "<Figure size 432x360 with 2 Axes>"
      ]
     },
     "metadata": {
      "needs_background": "light"
     },
     "output_type": "display_data"
    }
   ],
   "source": [
    "%%time\n",
    "\n",
    "RESAMP = 30\n",
    "APOSCALE = 6.\n",
    "PSBIN = 40\n",
    "\n",
    "fullmap = dict()\n",
    "fullmap[95] = map95[1:]\n",
    "fullmap[150] = map150[1:]\n",
    "\n",
    "fullvar = dict()\n",
    "fullvar[95] = vmap95[1:]\n",
    "fullvar[150] = vmap150[1:]\n",
    "\n",
    "fullbeam = dict()\n",
    "fullbeam[95] = fwhm[1]\n",
    "fullbeam[150] = fwhm[2]\n",
    "\n",
    "tmpmap = dict()\n",
    "tmpmap[30] = map30f[1:]\n",
    "tmpmap[353] = map353f[1:]\n",
    "\n",
    "tmpbeam = dict()\n",
    "tmpbeam[30] = fwhm[0]\n",
    "tmpbeam[353] = fwhm[3]\n",
    "\n",
    "pipeline = af.tpfpipe(fullmap,mask=mask.reshape(1,-1),variances=fullvar,fwhms=fullbeam,\n",
    "                      templates=tmpmap,template_fwhms=tmpbeam)\n",
    "rslt_eb = pipeline.preprocess(aposcale=APOSCALE,psbin=PSBIN,nsamp=RESAMP)\n",
    "\n",
    "fig,ax = plt.subplots(figsize=(6,5))\n",
    "sns.heatmap(rslt_eb[2],cmap='coolwarm',annot=False,ax=ax)"
   ]
  },
  {
   "cell_type": "markdown",
   "metadata": {},
   "source": [
    "#### window function matrix (top-hat according to NaMaster)"
   ]
  },
  {
   "cell_type": "code",
   "execution_count": 4,
   "metadata": {},
   "outputs": [
    {
     "data": {
      "text/plain": [
       "<AxesSubplot:>"
      ]
     },
     "execution_count": 4,
     "metadata": {},
     "output_type": "execute_result"
    },
    {
     "data": {
      "image/png": "[encoded data removed]",
      "text/plain": [
       "<Figure size 432x360 with 2 Axes>"
      ]
     },
     "metadata": {
      "needs_background": "light"
     },
     "output_type": "display_data"
    }
   ],
   "source": [
    "pipeline = af.tpfpipe(fullmap,mask=mask.reshape(1,-1),variances=fullvar,fwhms=fullbeam,\n",
    "                      templates=tmpmap,template_fwhms=tmpbeam)\n",
    "window = pipeline.bp_window(aposcale=APOSCALE,psbin=PSBIN)\n",
    "\n",
    "fig,ax = plt.subplots(figsize=(6,5))\n",
    "sns.heatmap(window,cmap='Blues',annot=False,ax=ax)"
   ]
  },
  {
   "cell_type": "markdown",
   "metadata": {},
   "source": [
    "end"
   ]
  }
 ],
 "metadata": {
  "kernelspec": {
   "display_name": "Python 3",
   "language": "python",
   "name": "python3"
  },
  "language_info": {
   "codemirror_mode": {
    "name": "ipython",
    "version": 3
   },
   "file_extension": ".py",
   "mimetype": "text/x-python",
   "name": "python",
   "nbconvert_exporter": "python",
   "pygments_lexer": "ipython3",
   "version": "3.8.2"
  }
 },
 "nbformat": 4,
 "nbformat_minor": 4
}
