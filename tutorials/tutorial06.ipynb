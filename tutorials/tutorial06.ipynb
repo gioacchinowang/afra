{
 "cells": [
  {
   "cell_type": "markdown",
   "metadata": {},
   "source": [
    "# ABS tutorial 06 (for template fitting)\n",
    "\n",
    "## template fitting pipeline"
   ]
  },
  {
   "cell_type": "code",
   "execution_count": null,
   "metadata": {},
   "outputs": [],
   "source": [
    "import numpy as np\n",
    "import healpy as hp\n",
    "import matplotlib.pyplot as plt\n",
    "import abspy as ap\n",
    "#%matplotlib inline\n",
    "import warnings\n",
    "warnings.filterwarnings('ignore')"
   ]
  },
  {
   "cell_type": "markdown",
   "metadata": {},
   "source": [
    "import template maps"
   ]
  },
  {
   "cell_type": "code",
   "execution_count": null,
   "metadata": {},
   "outputs": [],
   "source": [
    "NSIDE = 128\n",
    "freq_list = [95,150,200]  # measurements\n",
    "nfreq = len(freq_list)\n",
    "\n",
    "mapcmb = hp.read_map('./data/TQU_CMB_r7.fits',field=[0,1,2],dtype=np.float64,verbose=0)\n",
    "map30 = hp.read_map('./data/TQU_30GHz_r7.fits',field=[0,1,2],dtype=np.float64,verbose=0)\n",
    "map353 = hp.read_map('./data/TQU_353GHz_r7.fits',field=[0,1,2],dtype=np.float64,verbose=0)\n",
    "mask = hp.read_map('./data/ali_mask_r7.fits',dtype=bool,verbose=0)\n",
    "\n",
    "mask = hp.read_map('./data/ali_mask_r7.fits',dtype=bool,verbose=False)\n",
    "fig = plt.figure(figsize=(5,5))\n",
    "hp.mollview(mask,title='AliCPT mask map',hold=True)"
   ]
  },
  {
   "cell_type": "markdown",
   "metadata": {},
   "source": [
    "prepare mock data from models/templates"
   ]
  },
  {
   "cell_type": "code",
   "execution_count": null,
   "metadata": {},
   "outputs": [],
   "source": [
    "est = ap.pstimator(nside=NSIDE,mask=mask.reshape(1,-1), aposcale=5.0, psbin=80)\n",
    "modes, dustamp = est.auto_t(map353[0].reshape(1,-1))[:2]\n",
    "modes, syncamp = est.auto_t(map30[0].reshape(1,-1))[:2]\n",
    "modes, cmbamp = est.auto_t(mapcmb[0].reshape(1,-1))[:2]"
   ]
  },
  {
   "cell_type": "code",
   "execution_count": null,
   "metadata": {},
   "outputs": [],
   "source": [
    "# mock foreground from model\n",
    "from abspy.tools.fg_models import syncdustmodel\n",
    "c = syncdustmodel(modes=list(modes),refs=[30.,353.])\n",
    "# update dust PS template to model parameters\n",
    "for i in range(len(modes)):\n",
    "    c.reset({c.param_list[i] : syncamp[i]})\n",
    "    c.reset({c.param_list[i+len(modes)] : dustamp[i]})\n",
    "c.reset({'beta_d':1.})\n",
    "c.reset({'beta_s':-2.})\n",
    "c.reset({'rho':0.3})\n",
    "c.params\n",
    "hybrid_ps = c.bandpower(freq_list)\n",
    "\n",
    "# foreground + CMB\n",
    "signal = np.zeros((len(modes),nfreq,nfreq))\n",
    "for i in range(len(modes)):\n",
    "    for j in range(nfreq):\n",
    "        for k in range(nfreq):\n",
    "            signal[i,j,k] = cmbamp[i]\n",
    "signal += hybrid_ps\n",
    "\n",
    "fig,ax = plt.subplots(figsize=(5,5))\n",
    "for j in range(len(freq_list)):\n",
    "    ax.scatter(modes,hybrid_ps[:,j,j],label=str(freq_list[j])+' GHz')\n",
    "    ax.plot(modes,signal[:,j,j],label=str(freq_list[j])+' GHz')\n",
    "    \n",
    "ax.set_yscale('log')\n",
    "ax.set_xscale('log')\n",
    "ax.set_xlabel(r'$\\ell$',fontsize=15)\n",
    "ax.set_ylabel(r'$D_\\ell$ ($\\mu K^2$)',fontsize=15)\n",
    "ax.tick_params(axis='both', labelsize=15)\n",
    "ax.set_title('auto-corr. at each frequency band')\n",
    "ax.legend(loc=2)\n",
    "\n",
    "fig,ax = plt.subplots(figsize=(5,5))\n",
    "for i in range(len(modes)):\n",
    "    ax.scatter(freq_list,np.diag(hybrid_ps[i]),label=str(modes[i]))\n",
    "    ax.scatter(freq_list,np.diag(signal[i]),marker='^')\n",
    "    \n",
    "ax.set_yscale('log')\n",
    "ax.set_xscale('log')\n",
    "ax.set_xlabel(r'$\\nu$',fontsize=15)\n",
    "ax.set_ylabel(r'$D_\\ell$ ($\\mu K^2$)',fontsize=15)\n",
    "ax.tick_params(axis='both', labelsize=15)\n",
    "ax.set_title('auto-corr. at angular mode')\n",
    "ax.legend(loc=2)"
   ]
  },
  {
   "cell_type": "code",
   "execution_count": null,
   "metadata": {},
   "outputs": [],
   "source": [
    "# noise and template\n",
    "noise = np.ones_like(signal)*1.e-2\n",
    "\n",
    "template = np.zeros((len(modes),2))\n",
    "template[:,0] = syncamp\n",
    "template[:,1] = dustamp"
   ]
  },
  {
   "cell_type": "markdown",
   "metadata": {},
   "source": [
    "- TT"
   ]
  },
  {
   "cell_type": "code",
   "execution_count": null,
   "metadata": {},
   "outputs": [],
   "source": [
    "p1 = ap.tpfit(signal=signal,noise=noise,freqs=freq_list,modes=list(modes),template=template,refs=[30.,353.])\n",
    "p1.sampling_opt = {'nlive':4000}\n",
    "results = p1.run()"
   ]
  },
  {
   "cell_type": "code",
   "execution_count": null,
   "metadata": {},
   "outputs": [],
   "source": [
    "truths = [-2.,1.,0.3]#.append(cmbamp)\n",
    "for i in range(len(cmbamp)):\n",
    "    truths.append(cmbamp[i])\n",
    "print ('true values', truths)"
   ]
  },
  {
   "cell_type": "code",
   "execution_count": null,
   "metadata": {
    "scrolled": false
   },
   "outputs": [],
   "source": [
    "samples = results['samples']\n",
    "for i in range(len(p1.active_param_list)):  # convert variables into parameters\n",
    "    limits = p1.active_param_range[p1.active_param_list[i]]\n",
    "    for j in range(samples.shape[0]):\n",
    "        samples[j, i] = p1.unity_mapper(samples[j, i], limits)\n",
    "# corner plot\n",
    "import corner\n",
    "corner.corner(samples[:, :len(p1.active_param_list)],\n",
    "              range=[0.99] * len(p1.active_param_list),\n",
    "              quantiles=[0.16, 0.5, 0.84],\n",
    "              labels=p1.active_param_list,\n",
    "              show_titles=True,\n",
    "              title_kwargs={\"fontsize\": 15},\n",
    "              color='steelblue',\n",
    "              truths=truths,\n",
    "              truth_color='firebrick',\n",
    "              plot_contours=True,\n",
    "              hist_kwargs={'linewidth': 2},\n",
    "              label_kwargs={'fontsize': 20})"
   ]
  },
  {
   "cell_type": "markdown",
   "metadata": {},
   "source": [
    "post analysis from MCMC samples"
   ]
  },
  {
   "cell_type": "code",
   "execution_count": null,
   "metadata": {},
   "outputs": [],
   "source": [
    "from dynesty import utils as dyfunc\n",
    "weights = np.exp(results.logwt - results.logz[-1])  # normalized weights\n",
    "# Compute weighted mean and covariance.\n",
    "mean, cov = dyfunc.mean_and_cov(samples, weights)\n",
    "\n",
    "fig,ax = plt.subplots(figsize=(5,5))\n",
    "ax.plot(modes, cmbamp, 'k--',label='CMB')\n",
    "ax.errorbar(modes, mean[3:],np.sqrt(np.diag(cov)[3:]),fmt='o',label='reconstructed')\n",
    "ax.set_yscale('log')\n",
    "ax.set_xscale('log')\n",
    "ax.legend(loc=2)"
   ]
  },
  {
   "cell_type": "markdown",
   "metadata": {},
   "source": [
    "end"
   ]
  }
 ],
 "metadata": {
  "kernelspec": {
   "display_name": "Python 3",
   "language": "python",
   "name": "python3"
  },
  "language_info": {
   "codemirror_mode": {
    "name": "ipython",
    "version": 3
   },
   "file_extension": ".py",
   "mimetype": "text/x-python",
   "name": "python",
   "nbconvert_exporter": "python",
   "pygments_lexer": "ipython3",
   "version": "3.6.9"
  }
 },
 "nbformat": 4,
 "nbformat_minor": 4
}
