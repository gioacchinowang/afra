{
 "cells": [
  {
   "cell_type": "markdown",
   "metadata": {},
   "source": [
    "# Tutorial 07\n",
    "\n",
    "## fitting tests pure CMB\n",
    "\n",
    "`Gaussian likelihood`:\n",
    "\n",
    "$$ -2\\log\\mathcal{L} = (\\hat{X}-\\bar{N}-X)^T \\mathcal{M}_f^{-1} (\\hat{X}-\\bar{N}-X) $$\n",
    "\n",
    "$$ X = vecp(D) $$\n",
    "\n",
    "$$ M_f = Cov(X_f+N) $$\n",
    "\n",
    "`H-L likelihood`:\n",
    "\n",
    "$$ -2\\log\\mathcal{L} \\propto vecp(D^fg[\\frac{\\hat{D}}{D+N}])^T \\mathcal{M}_f^{-1} vecp(D^fg[\\frac{\\hat{D}}{D+N}]) $$"
   ]
  },
  {
   "cell_type": "code",
   "execution_count": 1,
   "metadata": {},
   "outputs": [],
   "source": [
    "import numpy as np\n",
    "import healpy as hp\n",
    "import matplotlib.pyplot as plt\n",
    "import afra as af\n",
    "from dynesty import utils as dyfunc\n",
    "from dynesty import plotting as dyplot\n",
    "import warnings\n",
    "warnings.filterwarnings('ignore')\n",
    "\n",
    "NSIDE = 128\n",
    "NSAMP = 20\n",
    "APOSCALE = 6.\n",
    "LMIN = 30\n",
    "LMAX = 210\n",
    "PSBIN = 30\n",
    "FREQS = [23,95,150,353]\n",
    "FWHM = [np.deg2rad(52.8/60.),np.deg2rad(19./60.),np.deg2rad(11./60.),np.deg2rad(4.94/60.)]\n",
    "KWARGS = {'nlive':1000}\n",
    "\n",
    "mask = hp.read_map('./data/ali_mask.fits',dtype=bool,verbose=0)\n",
    "\n",
    "map23f = hp.read_map('./data/pysm_s1d1_23.fits',field=[0,1,2],dtype=np.float32,verbose=0)\n",
    "map95f = hp.read_map('./data/pysm_s1d1_95.fits',field=[0,1,2],dtype=np.float32,verbose=0)\n",
    "map150f = hp.read_map('./data/pysm_s1d1_150.fits',field=[0,1,2],dtype=np.float32,verbose=0)\n",
    "map353f = hp.read_map('./data/pysm_s1d1_353.fits',field=[0,1,2],dtype=np.float32,verbose=0)\n",
    "cmb_cl = hp.read_cl('./data/camb_cls.fits')\n",
    "ell = np.arange(cmb_cl.shape[1])\n",
    "\n",
    "mapcmb = hp.synfast(cmb_cl,nside=NSIDE,new=True,verbose=0)\n",
    "fidcmb = np.empty((NSAMP,3,mapcmb.shape[1]),dtype=np.float32)\n",
    "for i in range(NSAMP):\n",
    "    fidcmb[i] = hp.synfast(cmb_cl,nside=NSIDE,new=True,verbose=0)\n",
    "\n",
    "vmap23 = hp.read_map('./data/wmapvar_23.fits',field=[0,1,2],dtype=np.float32,verbose=0)/100\n",
    "vmap95 = hp.read_map('./data/alivar_95.fits',field=[0,1,2],dtype=np.float32,verbose=0)/100\n",
    "vmap150 = hp.read_map('./data/alivar_150.fits',field=[0,1,2],dtype=np.float32,verbose=0)/100\n",
    "vmap353 = hp.read_map('./data/plkvar_353.fits',field=[0,1,2],dtype=np.float32,verbose=0)/100\n",
    "\n",
    "nmap23 = np.random.normal(0.,1.,size=(NSAMP,3,vmap23.shape[1]))*np.sqrt(vmap23)\n",
    "nmap95 = np.random.normal(0.,1.,size=(NSAMP,3,vmap95.shape[1]))*np.sqrt(vmap95)\n",
    "nmap150 = np.random.normal(0.,1.,size=(NSAMP,3,vmap150.shape[1]))*np.sqrt(vmap150)\n",
    "nmap353 = np.random.normal(0.,1.,size=(NSAMP,3,vmap353.shape[1]))*np.sqrt(vmap353)\n",
    "\n",
    "#map23 = hp.smoothing(mapcmb+map23f,fwhm=FWHM[0],verbose=0)+nmap23[0]\n",
    "#map95 = hp.smoothing(mapcmb+map95f,fwhm=FWHM[1],verbose=0)+nmap95[0]\n",
    "#map150 = hp.smoothing(mapcmb+map150f,fwhm=FWHM[2],verbose=0)+nmap150[0]\n",
    "#map353 = hp.smoothing(mapcmb+map353f,fwhm=FWHM[3],verbose=0)+nmap353[0]"
   ]
  },
  {
   "cell_type": "markdown",
   "metadata": {},
   "source": [
    "### pure CMB signal"
   ]
  },
  {
   "cell_type": "code",
   "execution_count": 2,
   "metadata": {},
   "outputs": [
    {
     "name": "stderr",
     "output_type": "stream",
     "text": [
      "iter: 3333 | +400 | bound: 6 | nc: 1 | ncall: 18084 | eff(%): 20.643 | loglstar:   -inf < -4994.189 <    inf | logz: -5001.469 +/-  0.177 | dlogz:  0.001 >  0.409                                    "
     ]
    },
    {
     "name": "stdout",
     "output_type": "stream",
     "text": [
      "G $\\chi^2_{min}$ 11588.950912030188\n",
      "HL $\\chi^2_{min}$ 9988.378710958496\n",
      "CPU times: user 23min 46s, sys: 25.8 s, total: 24min 12s\n",
      "Wall time: 3min 45s\n"
     ]
    },
    {
     "data": {
      "image/png": "[encoded data removed]",
      "text/plain": [
       "<Figure size 244.8x244.8 with 1 Axes>"
      ]
     },
     "metadata": {
      "needs_background": "light"
     },
     "output_type": "display_data"
    },
    {
     "data": {
      "image/png": "[encoded data removed]",
      "text/plain": [
       "<Figure size 244.8x244.8 with 1 Axes>"
      ]
     },
     "metadata": {
      "needs_background": "light"
     },
     "output_type": "display_data"
    }
   ],
   "source": [
    "%%time\n",
    "\n",
    "TARGET = 'E'\n",
    "MODEL = 'acmb'\n",
    "\n",
    "datamap = {95:hp.smoothing(mapcmb,fwhm=FWHM[1],verbose=0)+nmap95[0],\n",
    "           150:hp.smoothing(mapcmb,fwhm=FWHM[2],verbose=0)+nmap150[0]}\n",
    "datanoise = {95:nmap95, 150:nmap150}\n",
    "databeam = {95:FWHM[1], 150:FWHM[2]}\n",
    "fidmap = {95:fidcmb,150:fidcmb}\n",
    "\n",
    "pp = af.fitpipe(datamap,noises=datanoise,mask=mask,beams=databeam,\n",
    "                fiducials=fidmap,\n",
    "                targets=TARGET,background=MODEL)\n",
    "pp.preprocess(aposcale=APOSCALE,psbin=PSBIN,lmin=LMIN,lmax=LMAX)\n",
    "Ecov = pp.covmat\n",
    "\n",
    "pp.likelihood='gauss'\n",
    "result_g = pp.analyse(kwargs={'nlive':400})\n",
    "\n",
    "pp.likelihood='hl'\n",
    "result_h = pp.analyse(kwargs={'nlive':400})\n",
    "\n",
    "###\n",
    "\n",
    "print (r'G $\\chi^2_{min}$',-2*max(result_g['logl']))\n",
    "print (r'HL $\\chi^2_{min}$',-2*max(result_h['logl']))\n",
    "\n",
    "fg, ax = dyplot.cornerplot(result_g,labels= pp.paramlist,quantiles=[0.025, 0.5, 0.975],truths=[1.],\n",
    "                           color='midnightblue',truth_color='red',show_titles=1,smooth=0.04)\n",
    "fg, ax = dyplot.cornerplot(result_h,labels= pp.paramlist,quantiles=[0.025, 0.5, 0.975],truths=[1.],\n",
    "                           color='midnightblue',truth_color='red',show_titles=1,smooth=0.04)"
   ]
  },
  {
   "cell_type": "code",
   "execution_count": null,
   "metadata": {},
   "outputs": [],
   "source": [
    "%%time\n",
    "\n",
    "TARGET = 'B'\n",
    "\n",
    "datamap = {95:hp.smoothing(mapcmb,fwhm=FWHM[1],verbose=0)+nmap95[0],\n",
    "           150:hp.smoothing(mapcmb,fwhm=FWHM[2],verbose=0)+nmap150[0]}\n",
    "datanoise = {95:nmap95, 150:nmap150}\n",
    "databeam = {95:FWHM[1], 150:FWHM[2]}\n",
    "fidmap = {95:fidcmb,150:fidcmb}\n",
    "\n",
    "pp = af.fitpipe(datamap,noises=datanoise,mask=mask,beams=databeam,\n",
    "                fiducials=fidmap,\n",
    "                targets=TARGET,background=MODEL)\n",
    "pp.preprocess(aposcale=APOSCALE,psbin=PSBIN,lmin=LMIN,lmax=LMAX)\n",
    "Bcov = pp.covmat\n",
    "\n",
    "pp.likelihood='gauss'\n",
    "result_g = pp.analyse(kwargs={'nlive':400})\n",
    "\n",
    "pp.likelihood='hl'\n",
    "result_h = pp.analyse(kwargs={'nlive':400})\n",
    "\n",
    "###\n",
    "\n",
    "print (r'G $\\chi^2_{min}$',-2*max(result_g['logl']))\n",
    "print (r'HL $\\chi^2_{min}$',-2*max(result_h['logl']))\n",
    "\n",
    "fg, ax = dyplot.cornerplot(result_g,labels= pp.paramlist,quantiles=[0.025, 0.5, 0.975],truths=[1.,0.05],\n",
    "                           color='midnightblue',truth_color='red',show_titles=1,smooth=0.04)\n",
    "fg, ax = dyplot.cornerplot(result_h,labels= pp.paramlist,quantiles=[0.025, 0.5, 0.975],truths=[1.,0.05],\n",
    "                           color='midnightblue',truth_color='red',show_titles=1,smooth=0.04)"
   ]
  },
  {
   "cell_type": "code",
   "execution_count": null,
   "metadata": {},
   "outputs": [],
   "source": [
    "%%time\n",
    "\n",
    "TARGET = 'EB'\n",
    "\n",
    "datamap = {95:hp.smoothing(mapcmb,fwhm=FWHM[1],verbose=0)+nmap95[0],\n",
    "           150:hp.smoothing(mapcmb,fwhm=FWHM[2],verbose=0)+nmap150[0]}\n",
    "datanoise = {95:nmap95, 150:nmap150}\n",
    "databeam = {95:FWHM[1], 150:FWHM[2]}\n",
    "fidmap = {95:fidcmb,150:fidcmb}\n",
    "\n",
    "pp = af.fitpipe(datamap,noises=datanoise,mask=mask,beams=databeam,\n",
    "                fiducials=fidmap,\n",
    "                targets=TARGET,background=MODEL)\n",
    "pp.preprocess(aposcale=APOSCALE,psbin=PSBIN,lmin=LMIN,lmax=LMAX)\n",
    "EBcov = pp.covmat\n",
    "\n",
    "pp.likelihood='gauss'\n",
    "result_g = pp.analyse(kwargs={'nlive':400})\n",
    "\n",
    "pp.likelihood='hl'\n",
    "result_h = pp.analyse(kwargs={'nlive':400})\n",
    "\n",
    "###\n",
    "\n",
    "print (r'G $\\chi^2_{min}$',-2*max(result_g['logl']))\n",
    "print (r'HL $\\chi^2_{min}$',-2*max(result_h['logl']))\n",
    "\n",
    "fg, ax = dyplot.cornerplot(result_g,labels= pp.paramlist,quantiles=[0.025, 0.5, 0.975],truths=[1.,1.,0.05],\n",
    "                           color='midnightblue',truth_color='red',show_titles=1,smooth=0.04)\n",
    "fg, ax = dyplot.cornerplot(result_h,labels= pp.paramlist,quantiles=[0.025, 0.5, 0.975],truths=[1.,1.,0.05],\n",
    "                           color='midnightblue',truth_color='red',show_titles=1,smooth=0.04)"
   ]
  },
  {
   "cell_type": "markdown",
   "metadata": {},
   "source": [
    "end"
   ]
  }
 ],
 "metadata": {
  "kernelspec": {
   "display_name": "Python 3",
   "language": "python",
   "name": "python3"
  },
  "language_info": {
   "codemirror_mode": {
    "name": "ipython",
    "version": 3
   },
   "file_extension": ".py",
   "mimetype": "text/x-python",
   "name": "python",
   "nbconvert_exporter": "python",
   "pygments_lexer": "ipython3",
   "version": "3.8.5"
  }
 },
 "nbformat": 4,
 "nbformat_minor": 4
}
